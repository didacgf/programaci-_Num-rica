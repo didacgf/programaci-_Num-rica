{
 "cells": [
  {
   "cell_type": "code",
   "execution_count": 1,
   "metadata": {},
   "outputs": [
    {
     "name": "stdout",
     "output_type": "stream",
     "text": [
      "               0\n",
      "count   5.000000\n",
      "mean   41.200000\n",
      "std    13.367872\n",
      "min    28.000000\n",
      "25%    30.000000\n",
      "50%    41.000000\n",
      "75%    46.000000\n",
      "max    61.000000\n"
     ]
    }
   ],
   "source": [
    "#Exercici 1\n",
    "\n",
    "'''Crea una funció que donat un Array d’una dimensió, et faci un resum estadístic bàsic de les dades. \n",
    "Si detecta que l’array té més d’una dimensió, ha de mostrar un missatge d’error.'''\n",
    "\n",
    "import numpy as pd\n",
    "import pandas as pd\n",
    "\n",
    "from numpy import random\n",
    "\n",
    "x=random.randint(100, size=(5))\n",
    "df_describe = pd.DataFrame(x)\n",
    "\n",
    "if x.ndim > 1:\n",
    "    print('Més d\\'una dimensió')\n",
    "else:\n",
    "    print(df_describe.describe())\n",
    "    "
   ]
  },
  {
   "cell_type": "code",
   "execution_count": 16,
   "metadata": {},
   "outputs": [
    {
     "name": "stdout",
     "output_type": "stream",
     "text": [
      "Max supported dimension reached\n"
     ]
    }
   ],
   "source": [
    "#Exercici 2\n",
    "'''Crea una funció que et generi un quadrat NxN de nombres aleatoris entre el 0 i el 100.'''\n",
    "\n",
    "import numpy\n",
    "from numpy import random\n",
    "n = random.randint(100, size=(1))\n",
    "int(n)\n",
    "if int(n)*int(n) <= 32:\n",
    "    a = numpy.zeros(shape=[int(n)]*int(n))\n",
    "    a\n",
    "else:\n",
    "    print('Max supported dimension reached')\n"
   ]
  },
  {
   "cell_type": "code",
   "execution_count": 51,
   "metadata": {},
   "outputs": [
    {
     "name": "stdout",
     "output_type": "stream",
     "text": [
      "[[1 2 3]\n",
      " [4 5 6]]\n",
      "Total columnes = 21\n",
      "Total files = 21\n"
     ]
    }
   ],
   "source": [
    "#Exercici 3\n",
    "'''Crea una funció que donada una taula de dues dimensions, \n",
    "et calculi els totals per fila i els totals per columna.'''\n",
    "\n",
    "import numpy as np\n",
    "\n",
    "a = np.array([[1,2,3],[4,5,6]])\n",
    "\n",
    "print(a)\n",
    "\n",
    "column_a = [];        \n",
    "for row in a:\n",
    "  column_a.append(row[0])   \n",
    "\n",
    "column_b = [];        \n",
    "for row in a:\n",
    "  column_b.append(row[1]) \n",
    "\n",
    "column_c = [];        \n",
    "for row in a:\n",
    "  column_c.append(row[2]) \n",
    "\n",
    "columns = sum(column_a)+sum(column_b)+sum(column_c)\n",
    "\n",
    "print(\"Total columnes =\", columns)\n",
    "\n",
    "ra = a[0][0];\n",
    "rb = a[0][1];\n",
    "rc = a[0][2];\n",
    "rd = a[1][0];\n",
    "re = a[1][1];\n",
    "rf = a[1][2];\n",
    "\n",
    "rows = ra+rb+rc+rd+re+rf\n",
    "\n",
    "print(\"Total files =\", rows)"
   ]
  },
  {
   "cell_type": "code",
   "execution_count": 50,
   "metadata": {},
   "outputs": [
    {
     "name": "stdout",
     "output_type": "stream",
     "text": [
      "Pearsons correlation: 0.888\n"
     ]
    }
   ],
   "source": [
    "#Exercici 4\n",
    "'''Implementa manualment una funció que calculi el \n",
    "coeficient de correlació. Informa’t-en sobre els seus usos i interpretació.'''\n",
    "\n",
    "\n",
    "# calculate the Pearson's correlation between two variables\n",
    "from numpy.random import randn\n",
    "from numpy.random import seed\n",
    "from scipy.stats import pearsonr\n",
    "# seed random number generator\n",
    "seed(1)\n",
    "# prepare data\n",
    "data1 = 20 * randn(1000) + 100\n",
    "data2 = data1 + (10 * randn(1000) + 50)\n",
    "# calculate Pearson's correlation\n",
    "corr, _ = pearsonr(data1, data2)\n",
    "print('Pearsons correlation: %.3f' % corr)\n",
    "\n"
   ]
  },
  {
   "cell_type": "code",
   "execution_count": null,
   "metadata": {},
   "outputs": [],
   "source": []
  }
 ],
 "metadata": {
  "kernelspec": {
   "display_name": "Python 3",
   "language": "python",
   "name": "python3"
  },
  "language_info": {
   "codemirror_mode": {
    "name": "ipython",
    "version": 3
   },
   "file_extension": ".py",
   "mimetype": "text/x-python",
   "name": "python",
   "nbconvert_exporter": "python",
   "pygments_lexer": "ipython3",
   "version": "3.8.5"
  }
 },
 "nbformat": 4,
 "nbformat_minor": 4
}
